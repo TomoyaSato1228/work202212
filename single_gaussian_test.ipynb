{
 "cells": [
  {
   "cell_type": "code",
   "execution_count": 10,
   "id": "2e4d2ca1",
   "metadata": {
    "scrolled": true
   },
   "outputs": [
    {
     "name": "stdout",
     "output_type": "stream",
     "text": [
      "n =  1\n",
      "mean =  0.005151435176634545\n",
      "[0.005151435176634545]\n",
      "n =  2\n",
      "mean =  0.04016633649038804\n",
      "[0.005151435176634545, 0.04016633649038804]\n",
      "n =  3\n",
      "mean =  -0.11010436305998819\n",
      "[0.005151435176634545, 0.04016633649038804, -0.11010436305998819]\n",
      "n =  4\n",
      "mean =  -0.151408915021812\n",
      "[0.005151435176634545, 0.04016633649038804, -0.11010436305998819, -0.151408915021812]\n",
      "n =  5\n",
      "mean =  -0.03959861052933842\n",
      "[0.005151435176634545, 0.04016633649038804, -0.11010436305998819, -0.151408915021812, -0.03959861052933842]\n",
      "Standard deviation =  0.07094987820648649\n"
     ]
    }
   ],
   "source": [
    "#それぞれのmeanをlistに入れて標準偏差を導出\n",
    "import numpy as np\n",
    "import matplotlib.pyplot as plt\n",
    "from scipy.stats import norm\n",
    "l=[]\n",
    "for n in range(1,6):\n",
    "    a=np.random.normal(\n",
    "    loc   = 0,\n",
    "    scale = 1,\n",
    "    size  = 10,\n",
    "        )\n",
    "    mean=np.mean(a)\n",
    "    l.append(mean)\n",
    "    print(\"n = \", n)\n",
    "    #print(\"a = \", a)\n",
    "    print(\"mean = \", mean)\n",
    "    print(l)\n",
    "st_d=np.std(l)\n",
    "print(\"Standard deviation = \", st_d)"
   ]
  },
  {
   "cell_type": "code",
   "execution_count": 3,
   "id": "08e4b65d",
   "metadata": {},
   "outputs": [
    {
     "name": "stdout",
     "output_type": "stream",
     "text": [
      "FWHM =  1\n",
      "n =  1\n",
      "mean =  -0.3012374878456511\n",
      "[-0.3012374878456511]\n",
      "n =  2\n",
      "mean =  -0.5799777297212854\n",
      "[-0.3012374878456511, -0.5799777297212854]\n",
      "n =  3\n",
      "mean =  0.37562721874487126\n",
      "[-0.3012374878456511, -0.5799777297212854, 0.37562721874487126]\n",
      "Standard deviation =  0.40125120574436585\n",
      "FWHM =  2\n",
      "n =  1\n",
      "mean =  -0.2930012707348611\n",
      "[-0.2930012707348611]\n",
      "n =  2\n",
      "mean =  0.9695438482447175\n",
      "[-0.2930012707348611, 0.9695438482447175]\n",
      "n =  3\n",
      "mean =  -0.6533565694601067\n",
      "[-0.2930012707348611, 0.9695438482447175, -0.6533565694601067]\n",
      "Standard deviation =  0.6958353800021806\n",
      "FWHM =  3\n",
      "n =  1\n",
      "mean =  -0.29245452491268803\n",
      "[-0.29245452491268803]\n",
      "n =  2\n",
      "mean =  -0.4055916889065367\n",
      "[-0.29245452491268803, -0.4055916889065367]\n",
      "n =  3\n",
      "mean =  -0.054372668726264804\n",
      "[-0.29245452491268803, -0.4055916889065367, -0.054372668726264804]\n",
      "Standard deviation =  0.1463776653645304\n"
     ]
    }
   ],
   "source": [
    "#FWHMを変化させて,それぞれのmeanをlistに入れて標準偏差を導出\n",
    "import numpy as np\n",
    "import matplotlib.pyplot as plt\n",
    "from scipy.stats import norm\n",
    "for FWHM in range(1,4):\n",
    "    print(\"FWHM = \", FWHM)\n",
    "    l=[]\n",
    "    for n in range(1,4):\n",
    "        a=np.random.normal(\n",
    "            loc   = 0,\n",
    "            scale = FWHM,\n",
    "            size  = 10,\n",
    "            )\n",
    "        mean=np.mean(a)\n",
    "        l.append(mean)\n",
    "        print(\"n = \", n)\n",
    "        print(\"mean = \", mean)\n",
    "        print(l)\n",
    "    st_d=np.std(l)\n",
    "    print(\"Standard deviation = \", st_d)"
   ]
  },
  {
   "cell_type": "code",
   "execution_count": 10,
   "id": "a7276860",
   "metadata": {
    "scrolled": true
   },
   "outputs": [
    {
     "name": "stdout",
     "output_type": "stream",
     "text": [
      "FWHM =  1\n",
      "n =  1\n",
      "mean =  0.057060912598580746\n",
      "[0.057060912598580746]\n",
      "n =  2\n",
      "mean =  0.23879286063902563\n",
      "[0.057060912598580746, 0.23879286063902563]\n",
      "n =  3\n",
      "mean =  -0.18318245565074992\n",
      "[0.057060912598580746, 0.23879286063902563, -0.18318245565074992]\n",
      "Standard deviation =  0.1728218557694003\n",
      "2σ =  0.3456437115388006\n",
      "FWHM =  2\n",
      "n =  1\n",
      "mean =  -0.20407225935948956\n",
      "[-0.20407225935948956]\n",
      "n =  2\n",
      "mean =  0.023147156015484432\n",
      "[-0.20407225935948956, 0.023147156015484432]\n",
      "n =  3\n",
      "mean =  0.31005642101972675\n",
      "[-0.20407225935948956, 0.023147156015484432, 0.31005642101972675]\n",
      "Standard deviation =  0.21036314872067563\n",
      "2σ =  0.42072629744135126\n",
      "FWHM =  3\n",
      "n =  1\n",
      "mean =  0.4825735330826387\n",
      "[0.4825735330826387]\n",
      "n =  2\n",
      "mean =  -0.11065071833186083\n",
      "[0.4825735330826387, -0.11065071833186083]\n",
      "n =  3\n",
      "mean =  -0.011806048048458456\n",
      "[0.4825735330826387, -0.11065071833186083, -0.011806048048458456]\n",
      "Standard deviation =  0.25950732200098087\n",
      "2σ =  0.5190146440019617\n"
     ]
    }
   ],
   "source": [
    "#FWHMを変化させて,それぞれのmeanをlistに入れて標準偏差を導出(FWHM補正)\n",
    "import numpy as np\n",
    "import matplotlib.pyplot as plt\n",
    "from scipy.stats import norm\n",
    "for FWHM in range(1,4):\n",
    "    print(\"FWHM = \", FWHM)\n",
    "    l=[]\n",
    "    for n in range(1,4):\n",
    "        a=np.random.normal(\n",
    "            loc   = 0,\n",
    "            scale = FWHM*0.42466452,\n",
    "            size  = 10,\n",
    "            )\n",
    "        mean=np.mean(a)\n",
    "        l.append(mean)\n",
    "        print(\"n = \", n)\n",
    "        print(\"mean = \", mean)\n",
    "        print(l)\n",
    "    st_d=np.std(l)\n",
    "    print(\"Standard deviation = \", st_d)\n",
    "    print(\"2σ = \" , st_d*2)"
   ]
  },
  {
   "cell_type": "code",
   "execution_count": null,
   "id": "23745a8d",
   "metadata": {},
   "outputs": [],
   "source": []
  }
 ],
 "metadata": {
  "kernelspec": {
   "display_name": "Python 3 (ipykernel)",
   "language": "python",
   "name": "python3"
  },
  "language_info": {
   "codemirror_mode": {
    "name": "ipython",
    "version": 3
   },
   "file_extension": ".py",
   "mimetype": "text/x-python",
   "name": "python",
   "nbconvert_exporter": "python",
   "pygments_lexer": "ipython3",
   "version": "3.9.12"
  }
 },
 "nbformat": 4,
 "nbformat_minor": 5
}
