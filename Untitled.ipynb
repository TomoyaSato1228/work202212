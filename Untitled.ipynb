{
 "cells": [
  {
   "cell_type": "code",
   "execution_count": 31,
   "id": "564f85e8",
   "metadata": {},
   "outputs": [
    {
     "name": "stdout",
     "output_type": "stream",
     "text": [
      "distance =  0\n",
      "mean_of_mean =  -0.011539030057495108\n",
      "Standard deviation =  1.080513021201711\n",
      "distance =  1\n",
      "mean_of_mean =  0.511406775914826\n",
      "Standard deviation =  1.129596934075371\n",
      "distance =  2\n",
      "mean_of_mean =  1.0346215157264396\n",
      "Standard deviation =  1.2959633622656865\n",
      "distance =  3\n",
      "mean_of_mean =  1.5263026414479102\n",
      "Standard deviation =  1.4797964209722705\n",
      "distance =  4\n",
      "mean_of_mean =  1.9741601830647613\n",
      "Standard deviation =  1.8129204932939098\n",
      "distance =  5\n",
      "mean_of_mean =  2.53171188681849\n",
      "Standard deviation =  2.045407111919411\n",
      "[1.068973991144216, 1.641003709990197, 2.330584877992126, 3.006099062420181, 3.787080676358671, 4.577118998737901]\n",
      " \n",
      "0.5027 x + 0.00424\n"
     ]
    },
    {
     "data": {
      "image/png": "[encoded data removed]",
      "text/plain": [
       "<Figure size 432x288 with 1 Axes>"
      ]
     },
     "metadata": {
      "needs_background": "light"
     },
     "output_type": "display_data"
    }
   ],
   "source": [
    "import numpy as np\n",
    "import matplotlib.pyplot as plt\n",
    "from scipy.stats import norm\n",
    "N=10\n",
    "ni=[1.0,0.7,0.5,0.3,0.]\n",
    "FWHM=8\n",
    "\n",
    "\n",
    "dist_list=[]\n",
    "dist_list_2=[]\n",
    "mean_list_2=[]\n",
    "\n",
    "sigma_list=[]\n",
    "mean_sigma_list=[]\n",
    "mean_of_mean_list=[]\n",
    "\n",
    "for d in range(0, 6):\n",
    "    dist_list.append(d)\n",
    "    print(\"distance = \", d)\n",
    "    mean_list=[]\n",
    "    for i in range(100):\n",
    "        A = []\n",
    "        for n in range(len(ni)):\n",
    "            n1=int(N*ni[n])\n",
    "            n2=N-n1\n",
    "            a1=np.random.normal(\n",
    "                loc   = 0,\n",
    "                scale = FWHM/2.35,\n",
    "                size  = n1,\n",
    "                )\n",
    "            #print(\"a1= \", a1)\n",
    "            a2=np.random.normal(\n",
    "                loc   = d,\n",
    "                scale = FWHM/2.35,\n",
    "                size  = n2,\n",
    "                )\n",
    "            #print(\"a2 \", a2)\n",
    "            A=np.append(a1,a2)\n",
    "            #print(A)\n",
    "            mean=np.mean(A)\n",
    "            mean_list.append(mean)\n",
    "            mean_list_2.append(mean)\n",
    "            #print(\"n1 = \", n1)\n",
    "            #print(\"n2 = \", n2)\n",
    "            #print(\"mean = \", mean)\n",
    "            #plt.hist(a1)\n",
    "            #plt.hist(A,bins=50,histtype=\"step\",label=\"gaus1:gaus2 = {:.1f} : {:.1f}\".format(ni[n], 1-ni[n]))\n",
    "            #plt.xlabel(\"[arcmin]\")\n",
    "            #plt.ylabel(\"number of trials\")\n",
    "            #plt.legend(bbox_to_anchor=(1.05,0.9))\n",
    "        #print(\"mean_list =\", mean_list)\n",
    "    #plt.hist(mean_list, bins=50,histtype=\"step\")\n",
    "    mean_of_mean=np.mean(mean_list)\n",
    "    print(\"mean_of_mean = \", mean_of_mean)\n",
    "    mean_of_mean_list.append(mean_of_mean)\n",
    "\n",
    "    #plt.xlabel(\"[arcmin]\")\n",
    "    #plt.ylabel(\"number of trials\")\n",
    "\n",
    "\n",
    "    #print(\"total mean_list =\", mean_list)\n",
    "    st_d=np.std(mean_list)\n",
    "    sigma_list.append(st_d)\n",
    "    mean_plus_sigma=mean_of_mean+st_d\n",
    "    mean_sigma_list.append(mean_plus_sigma)\n",
    "    print(\"Standard deviation = \", st_d)\n",
    "print(mean_sigma_list)\n",
    "\n",
    "plt.scatter(dist_list,mean_of_mean_list)\n",
    "plt.xlabel(\"distance [arcmin]\")\n",
    "plt.ylabel(\"mean [arcmin]\")\n",
    "linear_model=np.polyfit(dist_list,mean_of_mean_list,1)\n",
    "linear_model_fn=np.poly1d(linear_model)\n",
    "x_s=np.arange(0,d+1)\n",
    "plt.plot(x_s,linear_model_fn(x_s),color=\"red\")\n",
    "print(linear_model_fn)\n",
    "plt.grid()\n",
    "\n"
   ]
  },
  {
   "cell_type": "code",
   "execution_count": 28,
   "id": "642c07cb",
   "metadata": {},
   "outputs": [
    {
     "data": {
      "text/plain": [
       "6"
      ]
     },
     "execution_count": 28,
     "metadata": {},
     "output_type": "execute_result"
    }
   ],
   "source": [
    "len(dist_list)\n",
    "#len(mean_list)"
   ]
  },
  {
   "cell_type": "code",
   "execution_count": 29,
   "id": "31eac8b0",
   "metadata": {},
   "outputs": [
    {
     "data": {
      "text/plain": [
       "6"
      ]
     },
     "execution_count": 29,
     "metadata": {},
     "output_type": "execute_result"
    }
   ],
   "source": [
    "len(mean_of_mean_list)"
   ]
  },
  {
   "cell_type": "code",
   "execution_count": null,
   "id": "3f29e128",
   "metadata": {},
   "outputs": [],
   "source": []
  }
 ],
 "metadata": {
  "kernelspec": {
   "display_name": "Python 3 (ipykernel)",
   "language": "python",
   "name": "python3"
  },
  "language_info": {
   "codemirror_mode": {
    "name": "ipython",
    "version": 3
   },
   "file_extension": ".py",
   "mimetype": "text/x-python",
   "name": "python",
   "nbconvert_exporter": "python",
   "pygments_lexer": "ipython3",
   "version": "3.9.12"
  }
 },
 "nbformat": 4,
 "nbformat_minor": 5
}
